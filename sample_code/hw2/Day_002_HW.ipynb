{
 "cells": [
  {
   "cell_type": "markdown",
   "metadata": {},
   "source": [
    "## [作業目標]\n",
    "了解機器學習適合應用的領域與範疇。\n",
    "\n",
    "1. 用機器來做複雜的計算。\n",
    "2. 不容易寫出規則。\n",
    "3. 人都沒有想過的事情。\n",
    "4. 很快速的客製化，快速分析。\n"
   ]
  },
  {
   "cell_type": "markdown",
   "metadata": {},
   "source": [
    "## [作業重點]\n",
    "透過瞭解機器學習的運作方式，找出非常適用機器學習應用的領域及其原因\n",
    "承上題。\n",
    "1. 用機器來做複雜的計算，有可能我們人類也不還清楚規則。e.g 機器人上火星探勘\n",
    "2. 不容易寫出規則，e.g. 視覺與聲音的辨識。\n",
    "3. 人都沒有想過的事情，e.g. 股市的交易（超級炒短線），10、20 秒鐘內要做決定要賣或是要買。\n",
    "4. 很快速的客製化，快速分析，e.g. 針對客戶的去做服務或是推薦。\n",
    "\n"
   ]
  },
  {
   "cell_type": "markdown",
   "metadata": {},
   "source": [
    "## 作業\n",
    "請找出一個你認為機器學習可以發光發熱的領域並闡述原因? \n",
    "\n",
    "我自己是喜歡聲音的部分，因為如果大多的裝置，都可以先使用語音來應用。這樣可以免去看畫面的動作。\n",
    "因為很多時候，聲音能給的畫面比直接看到畫面還要有畫面，而且還要有溫度。\n"
   ]
  },
  {
   "cell_type": "code",
   "execution_count": null,
   "metadata": {},
   "outputs": [],
   "source": [
    "   "
   ]
  }
 ],
 "metadata": {
  "kernelspec": {
   "display_name": "Python 3",
   "language": "python",
   "name": "python3"
  },
  "language_info": {
   "codemirror_mode": {
    "name": "ipython",
    "version": 3
   },
   "file_extension": ".py",
   "mimetype": "text/x-python",
   "name": "python",
   "nbconvert_exporter": "python",
   "pygments_lexer": "ipython3",
   "version": "3.7.4"
  }
 },
 "nbformat": 4,
 "nbformat_minor": 2
}
